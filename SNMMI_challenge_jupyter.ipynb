{
 "cells": [
  {
   "cell_type": "code",
   "execution_count": 39,
   "metadata": {},
   "outputs": [],
   "source": [
    "from autogluon.tabular import TabularDataset, TabularPredictor\n",
    "from autogluon.multimodal import MultiModalPredictor\n",
    "import seaborn as sns\n",
    "import numpy as np\n",
    "import pandas as pd\n",
    "from skimage import data\n",
    "from skimage import exposure\n",
    "from skimage.exposure import match_histograms"
   ]
  },
  {
   "cell_type": "code",
   "execution_count": null,
   "metadata": {},
   "outputs": [],
   "source": [
    "train_data = TabularDataset('SNMMI_CHALLENGE_TRAINING.csv') # load training data csv\n",
    "test_data = TabularDataset('SNMMI_CHALLENGE_TESTING.csv') ## load test data csv"
   ]
  },
  {
   "cell_type": "code",
   "execution_count": null,
   "metadata": {},
   "outputs": [],
   "source": [
    "#train PFS regression model after removal of short follow-up Event=0 data\n",
    "\n",
    "threshold = train_data[train_data['Event']==1].Outcome_PFS.mean() + 2*train_data[train_data['Event']==1].Outcome_PFS.std() # compute threshold for Event = 0 data to exclude (due to short follow up period)\n",
    "\n",
    "train_data_PFS = train_data[(train_data['Event']==1) | (train_data['Outcome_PFS'] >= threshold)] # exclude Event = 0 data with short follow up period\n",
    "\n",
    "train_data_PFS = train_data_PFS.drop(columns=['PatientID','Event']) # exclude Patient ID and Event for training\n",
    "\n",
    "label = 'Outcome_PFS'  # training label\n",
    "\n",
    "predictor_PFS = TabularPredictor(label=label).fit(train_data_PFS,presets='best_quality') # train model"
   ]
  },
  {
   "cell_type": "code",
   "execution_count": 41,
   "metadata": {},
   "outputs": [],
   "source": [
    "# function for prediction of PFS probabilities for the first 3 years based on ensemble model \n",
    "def calculate_percentage(row):\n",
    "    count_0_to_1 = sum(1 for value in row if      value <= 12)\n",
    "    count_1_to_2 = sum(1 for value in row if 12 < value <= 24)\n",
    "    count_2_to_3 = sum(1 for value in row if 24 < value <= 36)\n",
    "    \n",
    "    total_entries = len(row)\n",
    "    \n",
    "    percentage_0_to_1 = (count_0_to_1 / total_entries) * 100\n",
    "    percentage_1_to_2 = (count_1_to_2 / total_entries) * 100\n",
    "    percentage_2_to_3 = (count_2_to_3 / total_entries) * 100\n",
    "    \n",
    "    return pd.Series({'0_to_1': percentage_0_to_1,\n",
    "                      '1_to_2': percentage_1_to_2,\n",
    "                      '2_to_3': percentage_2_to_3})"
   ]
  },
  {
   "cell_type": "code",
   "execution_count": null,
   "metadata": {},
   "outputs": [],
   "source": [
    "results = test_data.PatientID.to_frame() # initialize the results dataframe\n",
    "results['PFS_pred'] = predictor_PFS.predict(test_data) # predict PFS on test data"
   ]
  },
  {
   "cell_type": "code",
   "execution_count": 43,
   "metadata": {},
   "outputs": [],
   "source": [
    "# adjust training data PFS histogram for histogram matching (assuming a mean follow up period of 50 months on thest data)\n",
    "mean_followup_time_no_event = train_data[train_data.Event==0].Outcome_PFS.mean() # compute mean follow-up time of Event = 0 training data\n",
    "target_followup_time_no_event = 50 # arbitrary assumption for mean Event = 0 follow up on test data (assuming these patients were included at the end of training data study)\n",
    "follow_up_diff = mean_followup_time_no_event - target_followup_time_no_event # correction factor for follow-up time for Event=0 training data for subsequwnt histogram matching\n",
    "train_PFS_adjusted = train_data.Event * train_data.Outcome_PFS + (1-train_data.Event) * (train_data.Outcome_PFS - follow_up_diff) # train PFS with adjusted follow-up time for Event = 0 training samples for subsequent histogram matching"
   ]
  },
  {
   "cell_type": "code",
   "execution_count": 51,
   "metadata": {},
   "outputs": [],
   "source": [
    "# histogram matching of predicted PFS with adjusted train PFS\n",
    "reference = train_PFS_adjusted.to_numpy()\n",
    "\n",
    "target = results.PFS_pred.to_numpy()\n",
    "\n",
    "results['PFS_pred_histo_match'] = match_histograms(target, reference).round(1)\n",
    "\n",
    "#results['histo_correction_delta'] = results['PFS_pred_histo_match'] - results['PFS_pred'] # compute degree of correction per sample for adjustment of single model outputs for year 1,2,3 probabilities"
   ]
  },
  {
   "cell_type": "code",
   "execution_count": null,
   "metadata": {},
   "outputs": [],
   "source": [
    "#compute predictions of each model of the PFS regression ensemble for computation of year 1,2,3 PFS probabilities\n",
    "PFS_ensemble_pred = pd.DataFrame()\n",
    "\n",
    "reference = train_PFS_adjusted.to_numpy() # for single model histogram matching\n",
    "\n",
    "for model in predictor_PFS.get_model_names():\n",
    "    model_prediction = predictor_PFS.predict(test_data, model).to_numpy()\n",
    "    PFS_ensemble_pred[model] = match_histograms(model_prediction, reference)"
   ]
  },
  {
   "cell_type": "code",
   "execution_count": 45,
   "metadata": {},
   "outputs": [],
   "source": [
    "# add year 1,2,3 PFS probabilities to results \n",
    "results = pd.concat([results, PFS_ensemble_pred.apply(calculate_percentage, axis=1)], axis=1) # add year 1,2,3 PFS probabilities to resuts"
   ]
  },
  {
   "cell_type": "code",
   "execution_count": 48,
   "metadata": {},
   "outputs": [],
   "source": [
    "# calculate year 1,2,3 survivals from year 1,2,3 PFS for final results\n",
    "results['PFS_1'] = round ( 100 - results['0_to_1']                                         , 1)\n",
    "results['PFS_2'] = round ( 100 - results['0_to_1'] - results['1_to_2']                     , 1)\n",
    "results['PFS_3'] = round ( 100 - results['0_to_1'] - results['1_to_2'] - results['2_to_3'] , 1)"
   ]
  },
  {
   "cell_type": "code",
   "execution_count": 52,
   "metadata": {},
   "outputs": [],
   "source": [
    "#export results\n",
    "results[['PatientID','PFS_pred_histo_match','PFS_1','PFS_2','PFS_3']].to_csv('results.csv')"
   ]
  }
 ],
 "metadata": {
  "kernelspec": {
   "display_name": "autopet",
   "language": "python",
   "name": "python3"
  },
  "language_info": {
   "codemirror_mode": {
    "name": "ipython",
    "version": 3
   },
   "file_extension": ".py",
   "mimetype": "text/x-python",
   "name": "python",
   "nbconvert_exporter": "python",
   "pygments_lexer": "ipython3",
   "version": "3.10.12"
  }
 },
 "nbformat": 4,
 "nbformat_minor": 2
}
